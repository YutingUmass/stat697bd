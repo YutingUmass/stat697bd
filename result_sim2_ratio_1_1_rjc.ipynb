{
 "cells": [
  {
   "cell_type": "markdown",
   "metadata": {},
   "source": [
    "# Read data"
   ]
  },
  {
   "cell_type": "code",
   "execution_count": 3,
   "metadata": {},
   "outputs": [],
   "source": [
    "import numpy as np\n",
    "import pandas as pd\n",
    "\n",
    "from sklearn.decomposition import PCA\n",
    "from sklearn.neighbors import NearestNeighbors\n",
    "import collections\n",
    "\n",
    "from scipy.stats import chisquare\n",
    "from scipy.stats import mannwhitneyu\n",
    "from scipy.stats import wilcoxon\n",
    "from scipy.stats import ks_2samp\n",
    "\n",
    "from sklearn.manifold import TSNE\n",
    "import matplotlib.pyplot as plt\n",
    "%matplotlib inline"
   ]
  },
  {
   "cell_type": "code",
   "execution_count": 4,
   "metadata": {},
   "outputs": [
    {
     "data": {
      "text/html": [
       "<div>\n",
       "<style scoped>\n",
       "    .dataframe tbody tr th:only-of-type {\n",
       "        vertical-align: middle;\n",
       "    }\n",
       "\n",
       "    .dataframe tbody tr th {\n",
       "        vertical-align: top;\n",
       "    }\n",
       "\n",
       "    .dataframe thead th {\n",
       "        text-align: right;\n",
       "    }\n",
       "</style>\n",
       "<table border=\"1\" class=\"dataframe\">\n",
       "  <thead>\n",
       "    <tr style=\"text-align: right;\">\n",
       "      <th>Genes</th>\n",
       "      <th>Gene1</th>\n",
       "      <th>Gene2</th>\n",
       "      <th>Gene3</th>\n",
       "      <th>Gene4</th>\n",
       "      <th>Gene5</th>\n",
       "      <th>Gene6</th>\n",
       "      <th>Gene7</th>\n",
       "      <th>Gene8</th>\n",
       "      <th>Gene9</th>\n",
       "      <th>Gene10</th>\n",
       "      <th>...</th>\n",
       "      <th>Gene991</th>\n",
       "      <th>Gene992</th>\n",
       "      <th>Gene993</th>\n",
       "      <th>Gene994</th>\n",
       "      <th>Gene995</th>\n",
       "      <th>Gene996</th>\n",
       "      <th>Gene997</th>\n",
       "      <th>Gene998</th>\n",
       "      <th>Gene999</th>\n",
       "      <th>Gene1000</th>\n",
       "    </tr>\n",
       "  </thead>\n",
       "  <tbody>\n",
       "    <tr>\n",
       "      <th>Cell1</th>\n",
       "      <td>9</td>\n",
       "      <td>52</td>\n",
       "      <td>31</td>\n",
       "      <td>42</td>\n",
       "      <td>8</td>\n",
       "      <td>5</td>\n",
       "      <td>0</td>\n",
       "      <td>0</td>\n",
       "      <td>1</td>\n",
       "      <td>0</td>\n",
       "      <td>...</td>\n",
       "      <td>3</td>\n",
       "      <td>13</td>\n",
       "      <td>609</td>\n",
       "      <td>73</td>\n",
       "      <td>10</td>\n",
       "      <td>119</td>\n",
       "      <td>0</td>\n",
       "      <td>64</td>\n",
       "      <td>4</td>\n",
       "      <td>1</td>\n",
       "    </tr>\n",
       "    <tr>\n",
       "      <th>Cell2</th>\n",
       "      <td>5</td>\n",
       "      <td>23</td>\n",
       "      <td>27</td>\n",
       "      <td>23</td>\n",
       "      <td>8</td>\n",
       "      <td>10</td>\n",
       "      <td>0</td>\n",
       "      <td>5</td>\n",
       "      <td>6</td>\n",
       "      <td>0</td>\n",
       "      <td>...</td>\n",
       "      <td>0</td>\n",
       "      <td>3</td>\n",
       "      <td>456</td>\n",
       "      <td>72</td>\n",
       "      <td>10</td>\n",
       "      <td>105</td>\n",
       "      <td>0</td>\n",
       "      <td>47</td>\n",
       "      <td>2</td>\n",
       "      <td>0</td>\n",
       "    </tr>\n",
       "    <tr>\n",
       "      <th>Cell3</th>\n",
       "      <td>12</td>\n",
       "      <td>54</td>\n",
       "      <td>18</td>\n",
       "      <td>58</td>\n",
       "      <td>7</td>\n",
       "      <td>0</td>\n",
       "      <td>4</td>\n",
       "      <td>0</td>\n",
       "      <td>4</td>\n",
       "      <td>0</td>\n",
       "      <td>...</td>\n",
       "      <td>3</td>\n",
       "      <td>21</td>\n",
       "      <td>659</td>\n",
       "      <td>44</td>\n",
       "      <td>7</td>\n",
       "      <td>138</td>\n",
       "      <td>0</td>\n",
       "      <td>50</td>\n",
       "      <td>3</td>\n",
       "      <td>1</td>\n",
       "    </tr>\n",
       "    <tr>\n",
       "      <th>Cell4</th>\n",
       "      <td>21</td>\n",
       "      <td>48</td>\n",
       "      <td>35</td>\n",
       "      <td>40</td>\n",
       "      <td>13</td>\n",
       "      <td>11</td>\n",
       "      <td>6</td>\n",
       "      <td>0</td>\n",
       "      <td>18</td>\n",
       "      <td>0</td>\n",
       "      <td>...</td>\n",
       "      <td>9</td>\n",
       "      <td>13</td>\n",
       "      <td>813</td>\n",
       "      <td>81</td>\n",
       "      <td>9</td>\n",
       "      <td>135</td>\n",
       "      <td>0</td>\n",
       "      <td>85</td>\n",
       "      <td>3</td>\n",
       "      <td>2</td>\n",
       "    </tr>\n",
       "    <tr>\n",
       "      <th>Cell5</th>\n",
       "      <td>5</td>\n",
       "      <td>50</td>\n",
       "      <td>30</td>\n",
       "      <td>30</td>\n",
       "      <td>4</td>\n",
       "      <td>3</td>\n",
       "      <td>0</td>\n",
       "      <td>0</td>\n",
       "      <td>5</td>\n",
       "      <td>0</td>\n",
       "      <td>...</td>\n",
       "      <td>4</td>\n",
       "      <td>12</td>\n",
       "      <td>553</td>\n",
       "      <td>49</td>\n",
       "      <td>3</td>\n",
       "      <td>103</td>\n",
       "      <td>4</td>\n",
       "      <td>50</td>\n",
       "      <td>3</td>\n",
       "      <td>0</td>\n",
       "    </tr>\n",
       "  </tbody>\n",
       "</table>\n",
       "<p>5 rows × 1000 columns</p>\n",
       "</div>"
      ],
      "text/plain": [
       "Genes  Gene1  Gene2  Gene3  Gene4  Gene5  Gene6  Gene7  Gene8  Gene9  Gene10  \\\n",
       "Cell1      9     52     31     42      8      5      0      0      1       0   \n",
       "Cell2      5     23     27     23      8     10      0      5      6       0   \n",
       "Cell3     12     54     18     58      7      0      4      0      4       0   \n",
       "Cell4     21     48     35     40     13     11      6      0     18       0   \n",
       "Cell5      5     50     30     30      4      3      0      0      5       0   \n",
       "\n",
       "Genes  ...  Gene991  Gene992  Gene993  Gene994  Gene995  Gene996  Gene997  \\\n",
       "Cell1  ...        3       13      609       73       10      119        0   \n",
       "Cell2  ...        0        3      456       72       10      105        0   \n",
       "Cell3  ...        3       21      659       44        7      138        0   \n",
       "Cell4  ...        9       13      813       81        9      135        0   \n",
       "Cell5  ...        4       12      553       49        3      103        4   \n",
       "\n",
       "Genes  Gene998  Gene999  Gene1000  \n",
       "Cell1       64        4         1  \n",
       "Cell2       47        2         0  \n",
       "Cell3       50        3         1  \n",
       "Cell4       85        3         2  \n",
       "Cell5       50        3         0  \n",
       "\n",
       "[5 rows x 1000 columns]"
      ]
     },
     "execution_count": 4,
     "metadata": {},
     "output_type": "execute_result"
    }
   ],
   "source": [
    "data_weak_1_1 = pd.read_csv('weak/df.sim.weak.1.1.csv') \n",
    "data_weak_1_1 = data_weak_1_1.rename(columns={ data_weak_1_1.columns[0]: \"Genes\" })\n",
    "data_weak_1_1 = data_weak_1_1.set_index(\"Genes\")\n",
    "data_weak_1_1 = data_weak_1_1.transpose() \n",
    "data_weak_1_1.head()"
   ]
  },
  {
   "cell_type": "code",
   "execution_count": 5,
   "metadata": {},
   "outputs": [
    {
     "data": {
      "text/html": [
       "<div>\n",
       "<style scoped>\n",
       "    .dataframe tbody tr th:only-of-type {\n",
       "        vertical-align: middle;\n",
       "    }\n",
       "\n",
       "    .dataframe tbody tr th {\n",
       "        vertical-align: top;\n",
       "    }\n",
       "\n",
       "    .dataframe thead th {\n",
       "        text-align: right;\n",
       "    }\n",
       "</style>\n",
       "<table border=\"1\" class=\"dataframe\">\n",
       "  <thead>\n",
       "    <tr style=\"text-align: right;\">\n",
       "      <th>Genes</th>\n",
       "      <th>Gene1</th>\n",
       "      <th>Gene2</th>\n",
       "      <th>Gene3</th>\n",
       "      <th>Gene4</th>\n",
       "      <th>Gene5</th>\n",
       "      <th>Gene6</th>\n",
       "      <th>Gene7</th>\n",
       "      <th>Gene8</th>\n",
       "      <th>Gene9</th>\n",
       "      <th>Gene10</th>\n",
       "      <th>...</th>\n",
       "      <th>Gene991</th>\n",
       "      <th>Gene992</th>\n",
       "      <th>Gene993</th>\n",
       "      <th>Gene994</th>\n",
       "      <th>Gene995</th>\n",
       "      <th>Gene996</th>\n",
       "      <th>Gene997</th>\n",
       "      <th>Gene998</th>\n",
       "      <th>Gene999</th>\n",
       "      <th>Gene1000</th>\n",
       "    </tr>\n",
       "  </thead>\n",
       "  <tbody>\n",
       "    <tr>\n",
       "      <th>Cell1</th>\n",
       "      <td>9</td>\n",
       "      <td>66</td>\n",
       "      <td>36</td>\n",
       "      <td>54</td>\n",
       "      <td>7</td>\n",
       "      <td>6</td>\n",
       "      <td>1</td>\n",
       "      <td>0</td>\n",
       "      <td>1</td>\n",
       "      <td>0</td>\n",
       "      <td>...</td>\n",
       "      <td>3</td>\n",
       "      <td>6</td>\n",
       "      <td>797</td>\n",
       "      <td>36</td>\n",
       "      <td>17</td>\n",
       "      <td>143</td>\n",
       "      <td>0</td>\n",
       "      <td>68</td>\n",
       "      <td>1</td>\n",
       "      <td>3</td>\n",
       "    </tr>\n",
       "    <tr>\n",
       "      <th>Cell2</th>\n",
       "      <td>8</td>\n",
       "      <td>62</td>\n",
       "      <td>36</td>\n",
       "      <td>43</td>\n",
       "      <td>4</td>\n",
       "      <td>8</td>\n",
       "      <td>5</td>\n",
       "      <td>0</td>\n",
       "      <td>0</td>\n",
       "      <td>0</td>\n",
       "      <td>...</td>\n",
       "      <td>0</td>\n",
       "      <td>5</td>\n",
       "      <td>525</td>\n",
       "      <td>44</td>\n",
       "      <td>25</td>\n",
       "      <td>75</td>\n",
       "      <td>0</td>\n",
       "      <td>110</td>\n",
       "      <td>1</td>\n",
       "      <td>1</td>\n",
       "    </tr>\n",
       "    <tr>\n",
       "      <th>Cell3</th>\n",
       "      <td>8</td>\n",
       "      <td>54</td>\n",
       "      <td>36</td>\n",
       "      <td>53</td>\n",
       "      <td>4</td>\n",
       "      <td>2</td>\n",
       "      <td>13</td>\n",
       "      <td>0</td>\n",
       "      <td>2</td>\n",
       "      <td>0</td>\n",
       "      <td>...</td>\n",
       "      <td>4</td>\n",
       "      <td>12</td>\n",
       "      <td>578</td>\n",
       "      <td>27</td>\n",
       "      <td>9</td>\n",
       "      <td>174</td>\n",
       "      <td>1</td>\n",
       "      <td>45</td>\n",
       "      <td>2</td>\n",
       "      <td>3</td>\n",
       "    </tr>\n",
       "    <tr>\n",
       "      <th>Cell4</th>\n",
       "      <td>11</td>\n",
       "      <td>63</td>\n",
       "      <td>40</td>\n",
       "      <td>41</td>\n",
       "      <td>8</td>\n",
       "      <td>9</td>\n",
       "      <td>9</td>\n",
       "      <td>4</td>\n",
       "      <td>11</td>\n",
       "      <td>0</td>\n",
       "      <td>...</td>\n",
       "      <td>4</td>\n",
       "      <td>12</td>\n",
       "      <td>760</td>\n",
       "      <td>61</td>\n",
       "      <td>24</td>\n",
       "      <td>104</td>\n",
       "      <td>2</td>\n",
       "      <td>86</td>\n",
       "      <td>3</td>\n",
       "      <td>0</td>\n",
       "    </tr>\n",
       "    <tr>\n",
       "      <th>Cell5</th>\n",
       "      <td>6</td>\n",
       "      <td>54</td>\n",
       "      <td>35</td>\n",
       "      <td>32</td>\n",
       "      <td>5</td>\n",
       "      <td>2</td>\n",
       "      <td>1</td>\n",
       "      <td>0</td>\n",
       "      <td>9</td>\n",
       "      <td>0</td>\n",
       "      <td>...</td>\n",
       "      <td>8</td>\n",
       "      <td>6</td>\n",
       "      <td>556</td>\n",
       "      <td>94</td>\n",
       "      <td>17</td>\n",
       "      <td>96</td>\n",
       "      <td>0</td>\n",
       "      <td>77</td>\n",
       "      <td>4</td>\n",
       "      <td>1</td>\n",
       "    </tr>\n",
       "  </tbody>\n",
       "</table>\n",
       "<p>5 rows × 1000 columns</p>\n",
       "</div>"
      ],
      "text/plain": [
       "Genes  Gene1  Gene2  Gene3  Gene4  Gene5  Gene6  Gene7  Gene8  Gene9  Gene10  \\\n",
       "Cell1      9     66     36     54      7      6      1      0      1       0   \n",
       "Cell2      8     62     36     43      4      8      5      0      0       0   \n",
       "Cell3      8     54     36     53      4      2     13      0      2       0   \n",
       "Cell4     11     63     40     41      8      9      9      4     11       0   \n",
       "Cell5      6     54     35     32      5      2      1      0      9       0   \n",
       "\n",
       "Genes  ...  Gene991  Gene992  Gene993  Gene994  Gene995  Gene996  Gene997  \\\n",
       "Cell1  ...        3        6      797       36       17      143        0   \n",
       "Cell2  ...        0        5      525       44       25       75        0   \n",
       "Cell3  ...        4       12      578       27        9      174        1   \n",
       "Cell4  ...        4       12      760       61       24      104        2   \n",
       "Cell5  ...        8        6      556       94       17       96        0   \n",
       "\n",
       "Genes  Gene998  Gene999  Gene1000  \n",
       "Cell1       68        1         3  \n",
       "Cell2      110        1         1  \n",
       "Cell3       45        2         3  \n",
       "Cell4       86        3         0  \n",
       "Cell5       77        4         1  \n",
       "\n",
       "[5 rows x 1000 columns]"
      ]
     },
     "execution_count": 5,
     "metadata": {},
     "output_type": "execute_result"
    }
   ],
   "source": [
    "data_mild_1_1 = pd.read_csv('mild/df.sim.mild.1.1.csv') \n",
    "data_mild_1_1 = data_mild_1_1.rename(columns={ data_mild_1_1.columns[0]: \"Genes\" })\n",
    "data_mild_1_1 = data_mild_1_1.set_index(\"Genes\")\n",
    "data_mild_1_1 = data_mild_1_1.transpose() \n",
    "data_mild_1_1.head()"
   ]
  },
  {
   "cell_type": "code",
   "execution_count": 6,
   "metadata": {},
   "outputs": [
    {
     "data": {
      "text/html": [
       "<div>\n",
       "<style scoped>\n",
       "    .dataframe tbody tr th:only-of-type {\n",
       "        vertical-align: middle;\n",
       "    }\n",
       "\n",
       "    .dataframe tbody tr th {\n",
       "        vertical-align: top;\n",
       "    }\n",
       "\n",
       "    .dataframe thead th {\n",
       "        text-align: right;\n",
       "    }\n",
       "</style>\n",
       "<table border=\"1\" class=\"dataframe\">\n",
       "  <thead>\n",
       "    <tr style=\"text-align: right;\">\n",
       "      <th>Genes</th>\n",
       "      <th>Gene1</th>\n",
       "      <th>Gene2</th>\n",
       "      <th>Gene3</th>\n",
       "      <th>Gene4</th>\n",
       "      <th>Gene5</th>\n",
       "      <th>Gene6</th>\n",
       "      <th>Gene7</th>\n",
       "      <th>Gene8</th>\n",
       "      <th>Gene9</th>\n",
       "      <th>Gene10</th>\n",
       "      <th>...</th>\n",
       "      <th>Gene991</th>\n",
       "      <th>Gene992</th>\n",
       "      <th>Gene993</th>\n",
       "      <th>Gene994</th>\n",
       "      <th>Gene995</th>\n",
       "      <th>Gene996</th>\n",
       "      <th>Gene997</th>\n",
       "      <th>Gene998</th>\n",
       "      <th>Gene999</th>\n",
       "      <th>Gene1000</th>\n",
       "    </tr>\n",
       "  </thead>\n",
       "  <tbody>\n",
       "    <tr>\n",
       "      <th>Cell1</th>\n",
       "      <td>6</td>\n",
       "      <td>72</td>\n",
       "      <td>40</td>\n",
       "      <td>48</td>\n",
       "      <td>4</td>\n",
       "      <td>10</td>\n",
       "      <td>1</td>\n",
       "      <td>0</td>\n",
       "      <td>0</td>\n",
       "      <td>0</td>\n",
       "      <td>...</td>\n",
       "      <td>0</td>\n",
       "      <td>7</td>\n",
       "      <td>529</td>\n",
       "      <td>67</td>\n",
       "      <td>18</td>\n",
       "      <td>113</td>\n",
       "      <td>2</td>\n",
       "      <td>82</td>\n",
       "      <td>2</td>\n",
       "      <td>1</td>\n",
       "    </tr>\n",
       "    <tr>\n",
       "      <th>Cell2</th>\n",
       "      <td>7</td>\n",
       "      <td>34</td>\n",
       "      <td>22</td>\n",
       "      <td>46</td>\n",
       "      <td>4</td>\n",
       "      <td>6</td>\n",
       "      <td>4</td>\n",
       "      <td>0</td>\n",
       "      <td>10</td>\n",
       "      <td>0</td>\n",
       "      <td>...</td>\n",
       "      <td>1</td>\n",
       "      <td>12</td>\n",
       "      <td>390</td>\n",
       "      <td>64</td>\n",
       "      <td>10</td>\n",
       "      <td>118</td>\n",
       "      <td>0</td>\n",
       "      <td>47</td>\n",
       "      <td>0</td>\n",
       "      <td>0</td>\n",
       "    </tr>\n",
       "    <tr>\n",
       "      <th>Cell3</th>\n",
       "      <td>17</td>\n",
       "      <td>44</td>\n",
       "      <td>43</td>\n",
       "      <td>39</td>\n",
       "      <td>2</td>\n",
       "      <td>21</td>\n",
       "      <td>1</td>\n",
       "      <td>0</td>\n",
       "      <td>5</td>\n",
       "      <td>0</td>\n",
       "      <td>...</td>\n",
       "      <td>3</td>\n",
       "      <td>13</td>\n",
       "      <td>428</td>\n",
       "      <td>40</td>\n",
       "      <td>21</td>\n",
       "      <td>133</td>\n",
       "      <td>3</td>\n",
       "      <td>55</td>\n",
       "      <td>3</td>\n",
       "      <td>1</td>\n",
       "    </tr>\n",
       "    <tr>\n",
       "      <th>Cell4</th>\n",
       "      <td>7</td>\n",
       "      <td>80</td>\n",
       "      <td>34</td>\n",
       "      <td>44</td>\n",
       "      <td>10</td>\n",
       "      <td>6</td>\n",
       "      <td>5</td>\n",
       "      <td>2</td>\n",
       "      <td>19</td>\n",
       "      <td>0</td>\n",
       "      <td>...</td>\n",
       "      <td>3</td>\n",
       "      <td>10</td>\n",
       "      <td>641</td>\n",
       "      <td>58</td>\n",
       "      <td>26</td>\n",
       "      <td>113</td>\n",
       "      <td>1</td>\n",
       "      <td>92</td>\n",
       "      <td>2</td>\n",
       "      <td>0</td>\n",
       "    </tr>\n",
       "    <tr>\n",
       "      <th>Cell5</th>\n",
       "      <td>13</td>\n",
       "      <td>61</td>\n",
       "      <td>40</td>\n",
       "      <td>41</td>\n",
       "      <td>9</td>\n",
       "      <td>7</td>\n",
       "      <td>2</td>\n",
       "      <td>0</td>\n",
       "      <td>10</td>\n",
       "      <td>0</td>\n",
       "      <td>...</td>\n",
       "      <td>2</td>\n",
       "      <td>13</td>\n",
       "      <td>504</td>\n",
       "      <td>36</td>\n",
       "      <td>8</td>\n",
       "      <td>139</td>\n",
       "      <td>0</td>\n",
       "      <td>54</td>\n",
       "      <td>0</td>\n",
       "      <td>0</td>\n",
       "    </tr>\n",
       "  </tbody>\n",
       "</table>\n",
       "<p>5 rows × 1000 columns</p>\n",
       "</div>"
      ],
      "text/plain": [
       "Genes  Gene1  Gene2  Gene3  Gene4  Gene5  Gene6  Gene7  Gene8  Gene9  Gene10  \\\n",
       "Cell1      6     72     40     48      4     10      1      0      0       0   \n",
       "Cell2      7     34     22     46      4      6      4      0     10       0   \n",
       "Cell3     17     44     43     39      2     21      1      0      5       0   \n",
       "Cell4      7     80     34     44     10      6      5      2     19       0   \n",
       "Cell5     13     61     40     41      9      7      2      0     10       0   \n",
       "\n",
       "Genes  ...  Gene991  Gene992  Gene993  Gene994  Gene995  Gene996  Gene997  \\\n",
       "Cell1  ...        0        7      529       67       18      113        2   \n",
       "Cell2  ...        1       12      390       64       10      118        0   \n",
       "Cell3  ...        3       13      428       40       21      133        3   \n",
       "Cell4  ...        3       10      641       58       26      113        1   \n",
       "Cell5  ...        2       13      504       36        8      139        0   \n",
       "\n",
       "Genes  Gene998  Gene999  Gene1000  \n",
       "Cell1       82        2         1  \n",
       "Cell2       47        0         0  \n",
       "Cell3       55        3         1  \n",
       "Cell4       92        2         0  \n",
       "Cell5       54        0         0  \n",
       "\n",
       "[5 rows x 1000 columns]"
      ]
     },
     "execution_count": 6,
     "metadata": {},
     "output_type": "execute_result"
    }
   ],
   "source": [
    "data_strong_1_1 = pd.read_csv('strong/df.sim.strong.1.1.csv') \n",
    "data_strong_1_1 = data_strong_1_1.rename(columns={ data_strong_1_1.columns[0]: \"Genes\" })\n",
    "data_strong_1_1 = data_strong_1_1.set_index(\"Genes\")\n",
    "data_strong_1_1 = data_strong_1_1.transpose() \n",
    "data_strong_1_1.head()"
   ]
  },
  {
   "cell_type": "code",
   "execution_count": 7,
   "metadata": {},
   "outputs": [],
   "source": [
    "n_batch1 = 250 #number of samples in batch 1\n",
    "n_batch2 = 250 #number of samples in batch 2\n",
    "\n",
    "\n",
    "batch_1 = [1 for i in range(n_batch1)]\n",
    "batch_2 = [2 for i in range(n_batch2)]\n",
    "\n",
    "#Assign the first n_batch1 samples to batch 1 and the next n_batch2 samples to batch 2\n",
    "batch = batch_1 + batch_2\n",
    "n_samples = len(batch)"
   ]
  },
  {
   "cell_type": "markdown",
   "metadata": {},
   "source": [
    "# Apply $X^{2}$ test"
   ]
  },
  {
   "cell_type": "code",
   "execution_count": 8,
   "metadata": {},
   "outputs": [],
   "source": [
    "def fdr_sample_qs(data, batch, sample_index, k = 30):\n",
    "    \n",
    "    \"\"\"\n",
    "    data= dataframe of gene experession data, rows are samples and columns are genes\n",
    "    batch = list of batch labels corresponding to the samples in the data\n",
    "    sample_index = the index of the sample that we want to find FDR of its neighborhood\n",
    "    k = k nearest neighbors\n",
    "    \"\"\"\n",
    "    \n",
    "    #conver dataframe to array\n",
    "    X = np.asarray(data)\n",
    "    \n",
    "    # find 50 first PCAs\n",
    "    \n",
    "    pca = PCA(n_components=50)\n",
    "    PCs = pca.fit_transform(X)\n",
    "    \n",
    "    # k nearest neighbors of each PC\n",
    "    \n",
    "    nbrs = NearestNeighbors(n_neighbors=k, algorithm='ball_tree').fit(PCs)\n",
    "    distances, indices = nbrs.kneighbors(PCs)\n",
    "    \n",
    "    #list of neighbors of sample s\n",
    "    nbrs_of_s = indices[sample_index] \n",
    "    \n",
    "    # what batches each neighbor of sample s belong to\n",
    "    batches_nbrs_s = [batch[index] for index in list(nbrs_of_s)]\n",
    "\n",
    "    # find frequency of each batch in nbrs_s\n",
    "    counter=collections.Counter(batches_nbrs_s)\n",
    "    freq_nbrs_s= list(counter.values())\n",
    "    \n",
    "    # find fraction of each batch in nbrs_s\n",
    "    fractions_nbrs_s = [freq/sum(freq_nbrs_s) for freq in freq_nbrs_s]\n",
    "    \n",
    "    counter=collections.Counter(batch)\n",
    "    n_samples = len(batch)\n",
    "    n_batch_1 = counter[1]\n",
    "    n_batch_2 = counter[2]\n",
    "\n",
    "    counter=collections.Counter(batch)\n",
    "    s, p = chisquare(f_obs = freq_nbrs_s,  f_exp =[k*n_batch_1/n_samples, k*n_batch_2/n_samples])\n",
    "    \n",
    "    #FDR_nbrs_s = 1.0-p\n",
    "    \n",
    "    #return FDR_nbrs_s\n",
    "    return p"
   ]
  },
  {
   "cell_type": "code",
   "execution_count": 9,
   "metadata": {},
   "outputs": [],
   "source": [
    "# false discovery rate\n",
    "FDR_CHI_SQU ={}\n",
    "\n",
    "# rejection rate\n",
    "RR_CHI = {}\n",
    "alpha = 0.05"
   ]
  },
  {
   "cell_type": "code",
   "execution_count": 10,
   "metadata": {},
   "outputs": [
    {
     "name": "stdout",
     "output_type": "stream",
     "text": [
      "FDR:  0.540531088662997\n",
      "RR:  0.064\n"
     ]
    }
   ],
   "source": [
    "# Weak\n",
    "\n",
    "# list of p-value\n",
    "p_CHI_weak = [fdr_sample_qs(data_weak_1_1, batch, i, k=20) for i in range(n_samples)]\n",
    "\n",
    "# fdr\n",
    "FDR_CHI_SQU[\"1_weak\"] = 1-np.mean(p_CHI_weak)\n",
    "print(\"FDR: \", FDR_CHI_SQU[\"1_weak\"])\n",
    "\n",
    "# rejection rate\n",
    "RR_CHI[\"1_weak\"] = sum(1 for i in p_CHI_weak if i<alpha)/len(p_CHI_weak)\n",
    "print(\"RR: \", RR_CHI[\"1_weak\"])"
   ]
  },
  {
   "cell_type": "code",
   "execution_count": 11,
   "metadata": {},
   "outputs": [
    {
     "data": {
      "text/plain": [
       "500"
      ]
     },
     "execution_count": 11,
     "metadata": {},
     "output_type": "execute_result"
    }
   ],
   "source": [
    "len(p_CHI_weak)"
   ]
  },
  {
   "cell_type": "code",
   "execution_count": 12,
   "metadata": {},
   "outputs": [
    {
     "name": "stdout",
     "output_type": "stream",
     "text": [
      "FDR:  0.9343644724754859\n",
      "RR:  0.802\n"
     ]
    }
   ],
   "source": [
    "# Mild\n",
    "\n",
    "# list of p-value\n",
    "p_CHI_mild = [fdr_sample_qs(data_mild_1_1, batch, i, k=20) for i in range(n_samples)]\n",
    "\n",
    "# fdr\n",
    "FDR_CHI_SQU[\"2_mild\"] = 1-np.mean(p_CHI_mild)\n",
    "print(\"FDR: \", FDR_CHI_SQU[\"2_mild\"])\n",
    "\n",
    "# rejection rate\n",
    "RR_CHI[\"2_mild\"] = sum(1 for i in p_CHI_mild if i<alpha)/len(p_CHI_mild)\n",
    "print(\"RR: \", RR_CHI[\"2_mild\"])"
   ]
  },
  {
   "cell_type": "code",
   "execution_count": 13,
   "metadata": {},
   "outputs": [
    {
     "name": "stdout",
     "output_type": "stream",
     "text": [
      "FDR:  0.9984899475549188\n",
      "RR:  0.996\n"
     ]
    }
   ],
   "source": [
    "# strong\n",
    "\n",
    "# list of p-value\n",
    "p_CHI_strong = [fdr_sample_qs(data_strong_1_1, batch, i, k=20) for i in range(n_samples)]\n",
    "\n",
    "# fdr\n",
    "FDR_CHI_SQU[\"3_strong\"] = 1- np.mean(p_CHI_strong)\n",
    "print(\"FDR: \", FDR_CHI_SQU[\"3_strong\"])\n",
    "      \n",
    "# rejection rate\n",
    "RR_CHI[\"3_strong\"]= sum(1 for i in p_CHI_strong if i<alpha)/len(p_CHI_strong)\n",
    "print(\"RR: \", RR_CHI[\"3_strong\"])"
   ]
  },
  {
   "cell_type": "markdown",
   "metadata": {},
   "source": [
    "# Apply Mann-Whitney U test"
   ]
  },
  {
   "cell_type": "code",
   "execution_count": 14,
   "metadata": {},
   "outputs": [],
   "source": [
    "def fdr_sample_mw(data, batch, sample_index, k = 30):\n",
    "    \n",
    "    \"\"\"\n",
    "    data= dataframe of gene experession data, rows are samples and columns are genes\n",
    "    batch = list of batch labels corresponding to the samples in the data\n",
    "    sample_index = the index of the sample that we want to find FDR of its neighborhood\n",
    "    k = k nearest neighbors\n",
    "    \"\"\"\n",
    "        \n",
    "    # find 50 first PCAs\n",
    "    pca = PCA(n_components=50)\n",
    "    PCs = pca.fit_transform(data)\n",
    "    \n",
    "    # k nearest neighbors of each PC\n",
    "    nbrs = NearestNeighbors(n_neighbors=k, algorithm='ball_tree').fit(PCs)\n",
    "    distances, indices = nbrs.kneighbors(PCs)\n",
    "    \n",
    "    #list of neighbors of sample s\n",
    "    nbrs_of_s = indices[sample_index] \n",
    "    \n",
    "    # what batches each neighbor of sample s belong to\n",
    "    batches_nbrs_s = [batch[index] for index in list(nbrs_of_s)]\n",
    "\n",
    "    counter=collections.Counter(batch)\n",
    "    n_samples = len(batch)\n",
    "    n_batch_1 = counter[1]\n",
    "    n_batch_2 = counter[2]\n",
    "    \n",
    "    # frequency of the overall dataset\n",
    "    freq = [n_batch_1/n_samples, n_batch_2/n_samples]\n",
    "    \n",
    "    # frequency of the overall dataset with the length k\n",
    "    expected_distr = [1 for i in range(round(k * freq[0]))] + [2 for i in range(round(k * freq[1]))]\n",
    "\n",
    "    s, p = mannwhitneyu(batches_nbrs_s,  expected_distr)\n",
    "    \n",
    "    #FDR_nbrs_s = 1.0-p\n",
    "    \n",
    "    #return FDR_nbrs_s\n",
    "    return p\n",
    "    "
   ]
  },
  {
   "cell_type": "code",
   "execution_count": 15,
   "metadata": {},
   "outputs": [],
   "source": [
    "# FDR\n",
    "FDR_M_W = {}\n",
    "\n",
    "# rejection rate\n",
    "RR_M_W = {}\n",
    "alpha = 0.05"
   ]
  },
  {
   "cell_type": "code",
   "execution_count": 16,
   "metadata": {},
   "outputs": [
    {
     "data": {
      "text/plain": [
       "0.7112592961477215"
      ]
     },
     "execution_count": 16,
     "metadata": {},
     "output_type": "execute_result"
    }
   ],
   "source": [
    "p_M_W_weak = [fdr_sample_mw(data_weak_1_1, batch, i, k=20) for i in range(n_samples)]\n",
    "FDR_M_W[\"1_weak\"] = 1- np.mean(p_M_W_weak)\n",
    "FDR_M_W[\"1_weak\"]"
   ]
  },
  {
   "cell_type": "code",
   "execution_count": 17,
   "metadata": {},
   "outputs": [
    {
     "data": {
      "text/plain": [
       "0.032"
      ]
     },
     "execution_count": 17,
     "metadata": {},
     "output_type": "execute_result"
    }
   ],
   "source": [
    "RR_M_W[\"1_weak\"] = sum(1 for i in p_M_W_weak if i<alpha)/len(p_M_W_weak)\n",
    "RR_M_W[\"1_weak\"]"
   ]
  },
  {
   "cell_type": "code",
   "execution_count": 18,
   "metadata": {},
   "outputs": [
    {
     "data": {
      "text/plain": [
       "0.9483392137752472"
      ]
     },
     "execution_count": 18,
     "metadata": {},
     "output_type": "execute_result"
    }
   ],
   "source": [
    "p_M_W_mild = [fdr_sample_mw(data_mild_1_1, batch, i, k=20) for i in range(n_samples)]\n",
    "FDR_M_W[\"2_mild\"] = 1-np.mean(p_M_W_mild)\n",
    "FDR_M_W[\"2_mild\"]"
   ]
  },
  {
   "cell_type": "code",
   "execution_count": 19,
   "metadata": {},
   "outputs": [
    {
     "data": {
      "text/plain": [
       "0.758"
      ]
     },
     "execution_count": 19,
     "metadata": {},
     "output_type": "execute_result"
    }
   ],
   "source": [
    "RR_M_W[\"2_mild\"] = sum(1 for i in p_M_W_mild if i<alpha)/len(p_M_W_mild)\n",
    "RR_M_W[\"2_mild\"]"
   ]
  },
  {
   "cell_type": "code",
   "execution_count": 20,
   "metadata": {},
   "outputs": [
    {
     "data": {
      "text/plain": [
       "0.9986658614605424"
      ]
     },
     "execution_count": 20,
     "metadata": {},
     "output_type": "execute_result"
    }
   ],
   "source": [
    "p_M_W_strong = [fdr_sample_mw(data_strong_1_1, batch, i, k=20) for i in range(n_samples)]\n",
    "FDR_M_W[\"3_strong\"] = 1 - np.mean(p_M_W_strong)\n",
    "FDR_M_W[\"3_strong\"]"
   ]
  },
  {
   "cell_type": "code",
   "execution_count": 21,
   "metadata": {},
   "outputs": [
    {
     "data": {
      "text/plain": [
       "0.996"
      ]
     },
     "execution_count": 21,
     "metadata": {},
     "output_type": "execute_result"
    }
   ],
   "source": [
    "RR_M_W[\"3_strong\"] = sum(1 for i in p_M_W_strong if i<alpha)/len(p_M_W_strong)\n",
    "RR_M_W[\"3_strong\"]"
   ]
  },
  {
   "cell_type": "markdown",
   "metadata": {},
   "source": [
    "# Apply Wilcoxon Signed-Rank test"
   ]
  },
  {
   "cell_type": "code",
   "execution_count": 22,
   "metadata": {},
   "outputs": [],
   "source": [
    "def fdr_sample_w(data, batch, sample_index, k = 30):\n",
    "    \n",
    "    \"\"\"\n",
    "    data= dataframe of gene experession data, rows are samples and columns are genes\n",
    "    batch = list of batch labels corresponding to the samples in the data\n",
    "    sample_index = the index of the sample that we want to find FDR of its neighborhood\n",
    "    k = k nearest neighbors\n",
    "    \"\"\"\n",
    "        \n",
    "    # find 50 first PCAs\n",
    "    pca = PCA(n_components=50)\n",
    "    PCs = pca.fit_transform(data)\n",
    "    \n",
    "    # k nearest neighbors of each PC\n",
    "    nbrs = NearestNeighbors(n_neighbors=k, algorithm='ball_tree').fit(PCs)\n",
    "    distances, indices = nbrs.kneighbors(PCs)\n",
    "    \n",
    "    #list of neighbors of sample s\n",
    "    nbrs_of_s = indices[sample_index] \n",
    "    \n",
    "    # what batches each neighbor of sample s belong to\n",
    "    batches_nbrs_s = [batch[index] for index in list(nbrs_of_s)]\n",
    "\n",
    "    counter=collections.Counter(batch)\n",
    "    n_samples = len(batch)\n",
    "    n_batch_1 = counter[1]\n",
    "    n_batch_2 = counter[2]\n",
    "    \n",
    "    # frequency of the overall dataset\n",
    "    freq = [n_batch_1/n_samples, n_batch_2/n_samples]\n",
    "    \n",
    "    # frequency of the overall dataset with the length k\n",
    "    expected_distr = [1 for i in range(round(k * freq[0]))] + [2 for i in range(round(k * freq[1]))]\n",
    "\n",
    "    s, p = wilcoxon(batches_nbrs_s,  expected_distr)\n",
    "    \n",
    "    #FDR_nbrs_s = 1.0-p\n",
    "    \n",
    "    #return FDR_nbrs_s\n",
    "    return p"
   ]
  },
  {
   "cell_type": "code",
   "execution_count": 23,
   "metadata": {},
   "outputs": [],
   "source": [
    "# fdr\n",
    "FDR_W = {}\n",
    "\n",
    "# rejection rate\n",
    "RR_W = {}\n",
    "alpha = 0.05"
   ]
  },
  {
   "cell_type": "code",
   "execution_count": 24,
   "metadata": {},
   "outputs": [
    {
     "name": "stderr",
     "output_type": "stream",
     "text": [
      "/anaconda3/lib/python3.6/site-packages/scipy/stats/morestats.py:2971: UserWarning: Sample size too small for normal approximation.\n",
      "  warnings.warn(\"Sample size too small for normal approximation.\")\n",
      "/anaconda3/lib/python3.6/site-packages/scipy/stats/morestats.py:2971: UserWarning: Sample size too small for normal approximation.\n",
      "  warnings.warn(\"Sample size too small for normal approximation.\")\n",
      "/anaconda3/lib/python3.6/site-packages/scipy/stats/morestats.py:2971: UserWarning: Sample size too small for normal approximation.\n",
      "  warnings.warn(\"Sample size too small for normal approximation.\")\n",
      "/anaconda3/lib/python3.6/site-packages/scipy/stats/morestats.py:2971: UserWarning: Sample size too small for normal approximation.\n",
      "  warnings.warn(\"Sample size too small for normal approximation.\")\n",
      "/anaconda3/lib/python3.6/site-packages/scipy/stats/morestats.py:2971: UserWarning: Sample size too small for normal approximation.\n",
      "  warnings.warn(\"Sample size too small for normal approximation.\")\n",
      "/anaconda3/lib/python3.6/site-packages/scipy/stats/morestats.py:2971: UserWarning: Sample size too small for normal approximation.\n",
      "  warnings.warn(\"Sample size too small for normal approximation.\")\n",
      "/anaconda3/lib/python3.6/site-packages/scipy/stats/morestats.py:2971: UserWarning: Sample size too small for normal approximation.\n",
      "  warnings.warn(\"Sample size too small for normal approximation.\")\n",
      "/anaconda3/lib/python3.6/site-packages/scipy/stats/morestats.py:2971: UserWarning: Sample size too small for normal approximation.\n",
      "  warnings.warn(\"Sample size too small for normal approximation.\")\n",
      "/anaconda3/lib/python3.6/site-packages/scipy/stats/morestats.py:2971: UserWarning: Sample size too small for normal approximation.\n",
      "  warnings.warn(\"Sample size too small for normal approximation.\")\n",
      "/anaconda3/lib/python3.6/site-packages/scipy/stats/morestats.py:2971: UserWarning: Sample size too small for normal approximation.\n",
      "  warnings.warn(\"Sample size too small for normal approximation.\")\n",
      "/anaconda3/lib/python3.6/site-packages/scipy/stats/morestats.py:2971: UserWarning: Sample size too small for normal approximation.\n",
      "  warnings.warn(\"Sample size too small for normal approximation.\")\n"
     ]
    },
    {
     "data": {
      "text/plain": [
       "0.44970954210801595"
      ]
     },
     "execution_count": 24,
     "metadata": {},
     "output_type": "execute_result"
    }
   ],
   "source": [
    "p_W_weak = [fdr_sample_w(data_weak_1_1, batch, i, k=30) for i in range(n_samples)]\n",
    "\n",
    "FDR_W[\"1_weak\"] = 1- np.mean(p_W_weak)\n",
    "FDR_W[\"1_weak\"]"
   ]
  },
  {
   "cell_type": "code",
   "execution_count": 25,
   "metadata": {},
   "outputs": [
    {
     "data": {
      "text/plain": [
       "0.018"
      ]
     },
     "execution_count": 25,
     "metadata": {},
     "output_type": "execute_result"
    }
   ],
   "source": [
    "RR_W[\"1_weak\"] = sum(1 for i in p_W_weak if i<alpha)/len(p_W_weak)\n",
    "RR_W[\"1_weak\"]"
   ]
  },
  {
   "cell_type": "code",
   "execution_count": 26,
   "metadata": {},
   "outputs": [
    {
     "name": "stderr",
     "output_type": "stream",
     "text": [
      "/anaconda3/lib/python3.6/site-packages/scipy/stats/morestats.py:2971: UserWarning: Sample size too small for normal approximation.\n",
      "  warnings.warn(\"Sample size too small for normal approximation.\")\n",
      "/anaconda3/lib/python3.6/site-packages/scipy/stats/morestats.py:2971: UserWarning: Sample size too small for normal approximation.\n",
      "  warnings.warn(\"Sample size too small for normal approximation.\")\n",
      "/anaconda3/lib/python3.6/site-packages/scipy/stats/morestats.py:2971: UserWarning: Sample size too small for normal approximation.\n",
      "  warnings.warn(\"Sample size too small for normal approximation.\")\n",
      "/anaconda3/lib/python3.6/site-packages/scipy/stats/morestats.py:2971: UserWarning: Sample size too small for normal approximation.\n",
      "  warnings.warn(\"Sample size too small for normal approximation.\")\n",
      "/anaconda3/lib/python3.6/site-packages/scipy/stats/morestats.py:2971: UserWarning: Sample size too small for normal approximation.\n",
      "  warnings.warn(\"Sample size too small for normal approximation.\")\n",
      "/anaconda3/lib/python3.6/site-packages/scipy/stats/morestats.py:2971: UserWarning: Sample size too small for normal approximation.\n",
      "  warnings.warn(\"Sample size too small for normal approximation.\")\n"
     ]
    },
    {
     "data": {
      "text/plain": [
       "0.8983388550228781"
      ]
     },
     "execution_count": 26,
     "metadata": {},
     "output_type": "execute_result"
    }
   ],
   "source": [
    "p_W_mild = [fdr_sample_w(data_mild_1_1, batch, i, k=30) for i in range(n_samples)]\n",
    "FDR_W[\"2_mild\"] = 1- np.mean(p_W_mild)\n",
    "FDR_W[\"2_mild\"]"
   ]
  },
  {
   "cell_type": "code",
   "execution_count": 27,
   "metadata": {},
   "outputs": [
    {
     "data": {
      "text/plain": [
       "0.716"
      ]
     },
     "execution_count": 27,
     "metadata": {},
     "output_type": "execute_result"
    }
   ],
   "source": [
    "RR_W[\"2_mild\"] = sum(1 for i in p_W_mild if i<alpha)/len(p_W_mild)\n",
    "RR_W[\"2_mild\"]"
   ]
  },
  {
   "cell_type": "code",
   "execution_count": 28,
   "metadata": {},
   "outputs": [
    {
     "data": {
      "text/plain": [
       "0.9974990528940029"
      ]
     },
     "execution_count": 28,
     "metadata": {},
     "output_type": "execute_result"
    }
   ],
   "source": [
    "p_W_strong = [fdr_sample_w(data_strong_1_1, batch, i, k=30) for i in range(n_samples)]\n",
    "\n",
    "FDR_W[\"3_strong\"] = 1 - np.mean(p_W_strong)\n",
    "FDR_W[\"3_strong\"]"
   ]
  },
  {
   "cell_type": "code",
   "execution_count": 29,
   "metadata": {},
   "outputs": [
    {
     "data": {
      "text/plain": [
       "0.994"
      ]
     },
     "execution_count": 29,
     "metadata": {},
     "output_type": "execute_result"
    }
   ],
   "source": [
    "RR_W[\"3_strong\"] = sum(1 for i in p_W_strong if i<alpha)/len(p_W_strong)\n",
    "RR_W[\"3_strong\"]"
   ]
  },
  {
   "cell_type": "markdown",
   "metadata": {},
   "source": [
    "# Kolmogorov-Smirnov's test"
   ]
  },
  {
   "cell_type": "code",
   "execution_count": 30,
   "metadata": {},
   "outputs": [],
   "source": [
    "def fdr_sample_ks(data, batch, sample_index, k = 20):\n",
    "    \n",
    "    \"\"\"\n",
    "    data= data as array of gene experession data, rows are samples and columns are genes\n",
    "    batch = list of batch labels corresponding to the samples in the data\n",
    "    sample_index = the index of the sample that we want to find FDR of its neighborhood\n",
    "    k = k nearest neighbors\n",
    "    \"\"\"\n",
    "        \n",
    "    # find 50 first PCAs\n",
    "    pca = PCA(n_components=50)\n",
    "    PCs = pca.fit_transform(data)\n",
    "    \n",
    "    # k nearest neighbors of each PC\n",
    "    nbrs = NearestNeighbors(n_neighbors=k, algorithm='ball_tree').fit(PCs)\n",
    "    distances, indices = nbrs.kneighbors(PCs)\n",
    "    \n",
    "    #list of neighbors of sample s\n",
    "    nbrs_of_s = indices[sample_index] \n",
    "        \n",
    "    # what batches each neighbor of sample s belong to\n",
    "    batches_nbrs_s = [batch[index] for index in list(nbrs_of_s)]\n",
    "\n",
    "    counter=collections.Counter(batch)\n",
    "    n_samples = len(batch)\n",
    "    n_batch_1 = counter[1]\n",
    "    n_batch_2 = counter[2]\n",
    "    \n",
    "    # frequency of the overall dataset\n",
    "    freq = [n_batch_1/n_samples, n_batch_2/n_samples]\n",
    "    \n",
    "    # frequency of the overall dataset with the length k\n",
    "    expected_distr = [1 for i in range(round(k * freq[0]))] + [2 for i in range(round(k * freq[1]))]\n",
    "\n",
    "    s, p = ks_2samp(batches_nbrs_s,  expected_distr)\n",
    "    \n",
    "    #FDR_nbrs_s = 1.0-p\n",
    "    \n",
    "    #return FDR_nbrs_s\n",
    "    return p"
   ]
  },
  {
   "cell_type": "code",
   "execution_count": 31,
   "metadata": {},
   "outputs": [],
   "source": [
    "# fdr\n",
    "FDR_K_S = {}\n",
    "\n",
    "# rejection rate\n",
    "RR_K_S = {}\n",
    "alpha = 0.05"
   ]
  },
  {
   "cell_type": "code",
   "execution_count": 32,
   "metadata": {},
   "outputs": [
    {
     "data": {
      "text/plain": [
       "0.05547243299014826"
      ]
     },
     "execution_count": 32,
     "metadata": {},
     "output_type": "execute_result"
    }
   ],
   "source": [
    "p_K_S_weak = [fdr_sample_ks(data_weak_1_1, batch, i, k=20) for i in range(n_samples)]\n",
    "FDR_K_S[\"1_weak\"] = 1- np.mean(p_K_S_weak)\n",
    "FDR_K_S[\"1_weak\"]"
   ]
  },
  {
   "cell_type": "code",
   "execution_count": 33,
   "metadata": {},
   "outputs": [
    {
     "data": {
      "text/plain": [
       "0.0"
      ]
     },
     "execution_count": 33,
     "metadata": {},
     "output_type": "execute_result"
    }
   ],
   "source": [
    "RR_K_S[\"1_weak\"] = sum(1 for i in p_K_S_weak if i<alpha)/len(p_K_S_weak)\n",
    "RR_K_S[\"1_weak\"]"
   ]
  },
  {
   "cell_type": "code",
   "execution_count": 34,
   "metadata": {},
   "outputs": [
    {
     "data": {
      "text/plain": [
       "0.7195874610518611"
      ]
     },
     "execution_count": 34,
     "metadata": {},
     "output_type": "execute_result"
    }
   ],
   "source": [
    "p_K_S_mild = [fdr_sample_ks(data_mild_1_1, batch, i, k=20) for i in range(n_samples)]\n",
    "FDR_K_S[\"2_mild\"] = 1-np.mean(p_K_S_mild)\n",
    "FDR_K_S[\"2_mild\"]"
   ]
  },
  {
   "cell_type": "code",
   "execution_count": 35,
   "metadata": {},
   "outputs": [
    {
     "data": {
      "text/plain": [
       "0.414"
      ]
     },
     "execution_count": 35,
     "metadata": {},
     "output_type": "execute_result"
    }
   ],
   "source": [
    "RR_K_S[\"2_mild\"] = sum(1 for i in p_K_S_mild if i<alpha)/len(p_K_S_mild)\n",
    "RR_K_S[\"2_mild\"]"
   ]
  },
  {
   "cell_type": "code",
   "execution_count": 36,
   "metadata": {},
   "outputs": [
    {
     "data": {
      "text/plain": [
       "0.9822565521086293"
      ]
     },
     "execution_count": 36,
     "metadata": {},
     "output_type": "execute_result"
    }
   ],
   "source": [
    "p_K_S_strong = [fdr_sample_ks(data_strong_1_1, batch, i, k=20) for i in range(n_samples)]\n",
    "FDR_K_S[\"3_strong\"] = 1 - np.mean(p_K_S_strong)\n",
    "FDR_K_S[\"3_strong\"]"
   ]
  },
  {
   "cell_type": "code",
   "execution_count": 37,
   "metadata": {},
   "outputs": [
    {
     "data": {
      "text/plain": [
       "0.986"
      ]
     },
     "execution_count": 37,
     "metadata": {},
     "output_type": "execute_result"
    }
   ],
   "source": [
    "RR_K_S[\"3_strong\"] = sum(1 for i in p_K_S_strong if i<alpha)/len(p_K_S_strong)\n",
    "RR_K_S[\"3_strong\"]"
   ]
  },
  {
   "cell_type": "markdown",
   "metadata": {},
   "source": [
    "# Visualization"
   ]
  },
  {
   "cell_type": "markdown",
   "metadata": {},
   "source": [
    "Weak"
   ]
  },
  {
   "cell_type": "code",
   "execution_count": 38,
   "metadata": {},
   "outputs": [],
   "source": [
    "#conver dataframe to array\n",
    "X = np.asarray(data_weak_1_1)\n",
    "pca = PCA(n_components=50)\n",
    "X_embedded = pca.fit_transform(X)"
   ]
  },
  {
   "cell_type": "code",
   "execution_count": 39,
   "metadata": {},
   "outputs": [
    {
     "data": {
      "text/plain": [
       "<matplotlib.collections.PathCollection at 0x129f68b38>"
      ]
     },
     "execution_count": 39,
     "metadata": {},
     "output_type": "execute_result"
    },
    {
     "data": {
      "image/png": "[encoded data removed]",
      "text/plain": [
       "<Figure size 432x288 with 1 Axes>"
      ]
     },
     "metadata": {},
     "output_type": "display_data"
    }
   ],
   "source": [
    "colors = {1:'red', 2:'blue'}\n",
    "plt.title('ADD title!!!')\n",
    "plt.scatter(X_embedded[:,0], X_embedded[:,1], c=[colors[x] for x in batch])"
   ]
  },
  {
   "cell_type": "markdown",
   "metadata": {},
   "source": [
    "Mild"
   ]
  },
  {
   "cell_type": "code",
   "execution_count": 40,
   "metadata": {},
   "outputs": [],
   "source": [
    "#conver dataframe to array\n",
    "X = np.asarray(data_mild_1_1)\n",
    "pca = PCA(n_components=50)\n",
    "X_embedded = pca.fit_transform(X)"
   ]
  },
  {
   "cell_type": "code",
   "execution_count": 41,
   "metadata": {},
   "outputs": [
    {
     "data": {
      "text/plain": [
       "<matplotlib.collections.PathCollection at 0x11106b860>"
      ]
     },
     "execution_count": 41,
     "metadata": {},
     "output_type": "execute_result"
    },
    {
     "data": {
      "image/png": "[encoded data removed]",
      "text/plain": [
       "<Figure size 432x288 with 1 Axes>"
      ]
     },
     "metadata": {},
     "output_type": "display_data"
    }
   ],
   "source": [
    "colors = {1:'red', 2:'blue'}\n",
    "plt.title('ADD title!!!')\n",
    "plt.scatter(X_embedded[:,0], X_embedded[:,1], c=[colors[x] for x in batch])"
   ]
  },
  {
   "cell_type": "markdown",
   "metadata": {},
   "source": [
    "Strong"
   ]
  },
  {
   "cell_type": "code",
   "execution_count": 42,
   "metadata": {},
   "outputs": [],
   "source": [
    "#conver dataframe to array\n",
    "X = np.asarray(data_strong_1_1)\n",
    "pca = PCA(n_components=50)\n",
    "X_embedded = pca.fit_transform(X)"
   ]
  },
  {
   "cell_type": "code",
   "execution_count": 43,
   "metadata": {},
   "outputs": [
    {
     "data": {
      "text/plain": [
       "<matplotlib.collections.PathCollection at 0x11105f390>"
      ]
     },
     "execution_count": 43,
     "metadata": {},
     "output_type": "execute_result"
    },
    {
     "data": {
      "image/png": "[encoded data removed]",
      "text/plain": [
       "<Figure size 432x288 with 1 Axes>"
      ]
     },
     "metadata": {},
     "output_type": "display_data"
    }
   ],
   "source": [
    "colors = {1:'red', 2:'blue'}\n",
    "plt.title('ADD title!!!')\n",
    "plt.scatter(X_embedded[:,0], X_embedded[:,1], c=[colors[x] for x in batch])"
   ]
  },
  {
   "cell_type": "code",
   "execution_count": 58,
   "metadata": {},
   "outputs": [
    {
     "name": "stdout",
     "output_type": "stream",
     "text": [
      "{'1_weak': 0.540531088662997, '2_mild': 0.9343644724754859, '3_strong': 0.9984899475549188}\n",
      "{'1_weak': 0.7112592961477215, '2_mild': 0.9483392137752472, '3_strong': 0.9986658614605424}\n",
      "{'1_weak': 0.44970954210801595, '2_mild': 0.8983388550228781, '3_strong': 0.9974990528940029}\n",
      "{'1_weak': 0.05547243299014826, '2_mild': 0.7195874610518611, '3_strong': 0.9822565521086293}\n"
     ]
    }
   ],
   "source": [
    "print(FDR_CHI_SQU)\n",
    "print(FDR_M_W)\n",
    "print(FDR_W)\n",
    "print(FDR_K_S)"
   ]
  },
  {
   "cell_type": "code",
   "execution_count": 63,
   "metadata": {},
   "outputs": [
    {
     "data": {
      "text/html": [
       "<div>\n",
       "<style scoped>\n",
       "    .dataframe tbody tr th:only-of-type {\n",
       "        vertical-align: middle;\n",
       "    }\n",
       "\n",
       "    .dataframe tbody tr th {\n",
       "        vertical-align: top;\n",
       "    }\n",
       "\n",
       "    .dataframe thead th {\n",
       "        text-align: right;\n",
       "    }\n",
       "</style>\n",
       "<table border=\"1\" class=\"dataframe\">\n",
       "  <thead>\n",
       "    <tr style=\"text-align: right;\">\n",
       "      <th></th>\n",
       "      <th>FDR_CHI</th>\n",
       "      <th>FDR_M_W</th>\n",
       "      <th>FDR_W</th>\n",
       "      <th>FDR_K_S</th>\n",
       "    </tr>\n",
       "  </thead>\n",
       "  <tbody>\n",
       "    <tr>\n",
       "      <th>1_weak</th>\n",
       "      <td>0.540531</td>\n",
       "      <td>0.711259</td>\n",
       "      <td>0.449710</td>\n",
       "      <td>0.055472</td>\n",
       "    </tr>\n",
       "    <tr>\n",
       "      <th>2_mild</th>\n",
       "      <td>0.934364</td>\n",
       "      <td>0.948339</td>\n",
       "      <td>0.898339</td>\n",
       "      <td>0.719587</td>\n",
       "    </tr>\n",
       "    <tr>\n",
       "      <th>3_strong</th>\n",
       "      <td>0.998490</td>\n",
       "      <td>0.998666</td>\n",
       "      <td>0.997499</td>\n",
       "      <td>0.982257</td>\n",
       "    </tr>\n",
       "  </tbody>\n",
       "</table>\n",
       "</div>"
      ],
      "text/plain": [
       "           FDR_CHI   FDR_M_W     FDR_W   FDR_K_S\n",
       "1_weak    0.540531  0.711259  0.449710  0.055472\n",
       "2_mild    0.934364  0.948339  0.898339  0.719587\n",
       "3_strong  0.998490  0.998666  0.997499  0.982257"
      ]
     },
     "execution_count": 63,
     "metadata": {},
     "output_type": "execute_result"
    }
   ],
   "source": [
    "# merge dictionary\n",
    "ds = [FDR_CHI_SQU, FDR_M_W, FDR_W, FDR_K_S]\n",
    "d = {}\n",
    "for k in FDR_CHI_SQU.keys():\n",
    "  d[k] = tuple(d[k] for d in ds)\n",
    "\n",
    "# convert dictionary to panda dataframe\n",
    "FDR_result = pd.DataFrame.from_dict(d, orient='index',\n",
    "                       columns=['FDR_CHI', 'FDR_M_W', 'FDR_W', 'FDR_K_S'])\n",
    "# export to csv\n",
    "FDR_result.to_csv('FDR_result_ratio_1_1.csv', index=True)\n",
    "FDR_result\n"
   ]
  },
  {
   "cell_type": "code",
   "execution_count": 66,
   "metadata": {},
   "outputs": [
    {
     "data": {
      "image/png": "[encoded data removed]",
      "text/plain": [
       "<Figure size 432x288 with 1 Axes>"
      ]
     },
     "metadata": {},
     "output_type": "display_data"
    }
   ],
   "source": [
    "plt.plot(*zip(*sorted(FDR_CHI_SQU.items())), '--r', label= 'Chi-square')\n",
    "plt.plot(*zip(*sorted(FDR_M_W.items())), label = 'Mann-Whitney' )\n",
    "plt.plot(*zip(*sorted(FDR_W.items())), label = 'Wilcoxon')\n",
    "plt.plot(*zip(*sorted(FDR_K_S.items())), label = 'Kolmogorov-Smirnov')\n",
    "#plt.ylim(0,1)\n",
    "plt.xlabel ('strength of batch effects')\n",
    "plt.ylabel ('FDR')\n",
    "#plt.xticks(list(keys))\n",
    "#plt.legend (bbox_to_anchor=(1, 1), loc=\"upper right\", borderaxespad=0.)\n",
    "plt.title('FDR vs. Tests (size ratio: 1/1)')\n",
    "plt.legend (bbox_to_anchor=(1, 1), loc=\"best\", borderaxespad=0.)\n",
    "plt.show()"
   ]
  },
  {
   "cell_type": "code",
   "execution_count": 49,
   "metadata": {},
   "outputs": [
    {
     "name": "stdout",
     "output_type": "stream",
     "text": [
      "{'1_weak': 0.064, '2_mild': 0.802, '3_strong': 0.996}\n",
      "{'1_weak': 0.032, '2_mild': 0.758, '3_strong': 0.996}\n",
      "{'1_weak': 0.018, '2_mild': 0.716, '3_strong': 0.994}\n",
      "{'1_weak': 0.0, '2_mild': 0.414, '3_strong': 0.986}\n"
     ]
    }
   ],
   "source": [
    "print(RR_CHI)\n",
    "print(RR_M_W)\n",
    "print(RR_W)\n",
    "print(RR_K_S)"
   ]
  },
  {
   "cell_type": "code",
   "execution_count": 52,
   "metadata": {},
   "outputs": [
    {
     "data": {
      "text/plain": [
       "{'1_weak': (0.064, 0.032, 0.018, 0.0),\n",
       " '2_mild': (0.802, 0.758, 0.716, 0.414),\n",
       " '3_strong': (0.996, 0.996, 0.994, 0.986)}"
      ]
     },
     "execution_count": 52,
     "metadata": {},
     "output_type": "execute_result"
    }
   ],
   "source": [
    "ds = [RR_CHI, RR_M_W, RR_W, RR_K_S]\n",
    "d = {}\n",
    "for k in RR_CHI.keys():\n",
    "  d[k] = tuple(d[k] for d in ds)\n",
    "d"
   ]
  },
  {
   "cell_type": "code",
   "execution_count": 54,
   "metadata": {},
   "outputs": [
    {
     "data": {
      "text/html": [
       "<div>\n",
       "<style scoped>\n",
       "    .dataframe tbody tr th:only-of-type {\n",
       "        vertical-align: middle;\n",
       "    }\n",
       "\n",
       "    .dataframe tbody tr th {\n",
       "        vertical-align: top;\n",
       "    }\n",
       "\n",
       "    .dataframe thead th {\n",
       "        text-align: right;\n",
       "    }\n",
       "</style>\n",
       "<table border=\"1\" class=\"dataframe\">\n",
       "  <thead>\n",
       "    <tr style=\"text-align: right;\">\n",
       "      <th></th>\n",
       "      <th>RR_CHI</th>\n",
       "      <th>RR_M_W</th>\n",
       "      <th>RR_W</th>\n",
       "      <th>RR_K_S</th>\n",
       "    </tr>\n",
       "  </thead>\n",
       "  <tbody>\n",
       "    <tr>\n",
       "      <th>1_weak</th>\n",
       "      <td>0.064</td>\n",
       "      <td>0.032</td>\n",
       "      <td>0.018</td>\n",
       "      <td>0.000</td>\n",
       "    </tr>\n",
       "    <tr>\n",
       "      <th>2_mild</th>\n",
       "      <td>0.802</td>\n",
       "      <td>0.758</td>\n",
       "      <td>0.716</td>\n",
       "      <td>0.414</td>\n",
       "    </tr>\n",
       "    <tr>\n",
       "      <th>3_strong</th>\n",
       "      <td>0.996</td>\n",
       "      <td>0.996</td>\n",
       "      <td>0.994</td>\n",
       "      <td>0.986</td>\n",
       "    </tr>\n",
       "  </tbody>\n",
       "</table>\n",
       "</div>"
      ],
      "text/plain": [
       "          RR_CHI  RR_M_W   RR_W  RR_K_S\n",
       "1_weak     0.064   0.032  0.018   0.000\n",
       "2_mild     0.802   0.758  0.716   0.414\n",
       "3_strong   0.996   0.996  0.994   0.986"
      ]
     },
     "execution_count": 54,
     "metadata": {},
     "output_type": "execute_result"
    }
   ],
   "source": [
    "RR_result = pd.DataFrame.from_dict(d, orient='index',\n",
    "                       columns=['RR_CHI', 'RR_M_W', 'RR_W', 'RR_K_S'])\n",
    "RR_result"
   ]
  },
  {
   "cell_type": "code",
   "execution_count": 64,
   "metadata": {},
   "outputs": [],
   "source": [
    "RR_result.to_csv('RR_result_ratio_1_1.csv', index=True)"
   ]
  },
  {
   "cell_type": "code",
   "execution_count": 65,
   "metadata": {},
   "outputs": [
    {
     "data": {
      "image/png": "[encoded data removed]",
      "text/plain": [
       "<Figure size 432x288 with 1 Axes>"
      ]
     },
     "metadata": {},
     "output_type": "display_data"
    }
   ],
   "source": [
    "plt.plot(*zip(*sorted(RR_CHI.items())), '--r', label= 'Chi-square')\n",
    "plt.plot(*zip(*sorted(RR_M_W.items())), label = 'Mann-Whitney' )\n",
    "plt.plot(*zip(*sorted(RR_W.items())), label = 'Wilcoxon')\n",
    "plt.plot(*zip(*sorted(RR_K_S.items())), label = 'Kolmogorov-Smirnov')\n",
    "#plt.ylim(0,1)\n",
    "plt.xlabel ('strength of batch effects')\n",
    "plt.ylabel ('RR')\n",
    "#plt.xticks(list(keys))\n",
    "#plt.legend (bbox_to_anchor=(1, 1), loc=\"upper right\", borderaxespad=0.)\n",
    "plt.title('Rejection Rate vs. Tests (size ratio: 1/1)')\n",
    "plt.legend (bbox_to_anchor=(1, 1), loc=\"best\", borderaxespad=0.)\n",
    "plt.show()"
   ]
  },
  {
   "cell_type": "code",
   "execution_count": null,
   "metadata": {},
   "outputs": [],
   "source": []
  }
 ],
 "metadata": {
  "kernelspec": {
   "display_name": "Python 3",
   "language": "python",
   "name": "python3"
  },
  "language_info": {
   "codemirror_mode": {
    "name": "ipython",
    "version": 3
   },
   "file_extension": ".py",
   "mimetype": "text/x-python",
   "name": "python",
   "nbconvert_exporter": "python",
   "pygments_lexer": "ipython3",
   "version": "3.6.9"
  }
 },
 "nbformat": 4,
 "nbformat_minor": 4
}
